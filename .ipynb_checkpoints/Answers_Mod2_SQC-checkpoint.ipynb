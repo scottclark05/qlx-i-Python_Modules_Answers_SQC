{
 "cells": [
  {
   "cell_type": "markdown",
   "metadata": {},
   "source": [
    "Data Science Fundamentals: Python |\n",
    "[Table of Contents](../index.ipynb)\n",
    "- - - \n",
    "<!--NAVIGATION-->\n",
    "Module 2. Python Data | [Simple Types](./01_simple_types.ipynb) | [Data Structures](./02_data_structures.ipynb) | **[Exercises](./03_data_exercises.ipynb)**"
   ]
  },
  {
   "cell_type": "markdown",
   "metadata": {},
   "source": [
    "# Module 2: Practice Exercises"
   ]
  },
  {
   "cell_type": "markdown",
   "metadata": {},
   "source": [
    "1. Get a space-separated list of integers from the user, create a tuple of those integers. Then compute and print the result of hash(tuple).  [Hint](https://docs.python.org/3/library/functions.html#hash). **Hash()**"
   ]
  },
  {
   "cell_type": "code",
   "execution_count": 11,
   "metadata": {},
   "outputs": [
    {
     "name": "stdout",
     "output_type": "stream",
     "text": [
      "Input a string of numbers separated by space : 10 20 30\n",
      "-6299925204498084005\n"
     ]
    }
   ],
   "source": [
    "#Answer for Exercise 1\n",
    "\n",
    "#Input list of strings \n",
    "NewInput=list(input('Input a string of numbers separated by space : ').split())\n",
    "\n",
    "#Convert to a tuple\n",
    "NewTuple=tuple([int(i) for i in NewInput])\n",
    "\n",
    "#Print the hash value\n",
    "print(hash(NewTuple))\n",
    "\n",
    "\n",
    "\n"
   ]
  },
  {
   "cell_type": "raw",
   "metadata": {},
   "source": [
    "#2 merge Odd and Even Elements of a list into separate lists\n",
    "\n",
    "listOne = [3, 6, 9, 12, 15, 18, 21]\n",
    "listTwo = [4, 8, 12, 16, 20, 24, 28]"
   ]
  },
  {
   "cell_type": "code",
   "execution_count": 2,
   "metadata": {},
   "outputs": [
    {
     "name": "stdout",
     "output_type": "stream",
     "text": [
      "The original list : [3, 6, 7, 8, 9, 2, 1, 5]\n",
      "Separated odd and even index list: [3, 7, 9, 1, 6, 8, 2, 5]\n"
     ]
    }
   ],
   "source": [
    "# Separating odd and even index elements \n",
    "\n",
    "# initializing list \n",
    "listThree = [3, 6, 7, 8, 9, 2, 1, 5] \n",
    "  \n",
    "# printing original list \n",
    "print(\"The original list : \" + str(listThree))\n",
    "listOne = []\n",
    "listTwo = []\n",
    "\n",
    "for i in range(0, len(listThree)): \n",
    "    if i % 2: \n",
    "        listTwo.append(listThree[i]) \n",
    "    else : \n",
    "        listOne.append(listThree[i]) \n",
    "  \n",
    "res = listOne + listTwo\n",
    "\n",
    "# print result \n",
    "print(\"Separated odd and even index list: \" + str(res))"
   ]
  },
  {
   "cell_type": "markdown",
   "metadata": {},
   "source": [
    "3. Take the following list. Slice it into three equal chunks and reverse each list."
   ]
  },
  {
   "cell_type": "code",
   "execution_count": 50,
   "metadata": {},
   "outputs": [
    {
     "name": "stdout",
     "output_type": "stream",
     "text": [
      "[[8, 45, 11], [12, 14, 23], [89, 45, 78], [100, 99]]\n"
     ]
    }
   ],
   "source": [
    "#Answers to Exercise 3\n",
    "#Input String and size of blocks to reverse\n",
    "sampleList = [11, 45, 8, 23, 14, 12, 78, 45 ,89 ,99, 100]\n",
    "chunkSize=3\n",
    "\n",
    "#number of whole blocks in input string\n",
    "numChunks=int(len(sampleList)//chunkSize)\n",
    "\n",
    "#have to intialize the list with the first block because the name of the slicing syntax excludes the 0 element \n",
    "#have to use :: as the second parameter to get the first number\n",
    "\n",
    "part=[sampleList[chunkSize*1-1::-1]]\n",
    "for i in range(2,numChunks+1):\n",
    "   part.append(sampleList[chunkSize*i-1:chunkSize*(i-1)-1:-1])\n",
    "\n",
    "#If the string is not an exact multiple of the chunksize  to make sure include the last part reversed \n",
    "part.append(sampleList[len(sampleList):chunkSize*numChunks-1:-1])\n",
    "print (part)"
   ]
  },
  {
   "cell_type": "markdown",
   "metadata": {},
   "source": [
    "4. Iterate through a given list and check if a given element already exists in a dictionary as a key’s value. If not, delete it from the list."
   ]
  },
  {
   "cell_type": "code",
   "execution_count": 3,
   "metadata": {},
   "outputs": [],
   "source": [
    "rollNumber = [47, 64, 69, 37, 76, 83, 95, 97]\n",
    "sampleDict ={'Zach':47, 'Emma':69, 'Kelly':76, 'Jason':97}"
   ]
  },
  {
   "cell_type": "code",
   "execution_count": 1,
   "metadata": {},
   "outputs": [
    {
     "name": "stdout",
     "output_type": "stream",
     "text": [
      "[47, 64, 69, 37, 76, 83, 95, 97]\n",
      "[64, 37, 83, 95]\n"
     ]
    }
   ],
   "source": [
    "#4. Iterate through a given list and check if a given element already exists in a dictionary as a key’s value. If not, delete it from the list.\n",
    "\n",
    "#Define the inital lists and Dictionary\n",
    "rollNumber = [47, 64, 69, 37, 76, 83, 95, 97]\n",
    "sampleDict ={'Zach':47, 'Emma':69, 'Kelly':76, 'Jason':97}\n",
    "\n",
    "print (rollNumber)\n",
    "#loop through the dictionary\n",
    "for key in(sampleDict):\n",
    "    # test to see if value exist in list of numbers if so delete it \n",
    "    if sampleDict[key] in rollNumber :\n",
    "        rollNumber.remove(sampleDict[key])\n",
    "        \n",
    "print (rollNumber)\n",
    "\n"
   ]
  },
  {
   "cell_type": "markdown",
   "metadata": {},
   "source": [
    "- - - \n",
    "<!--NAVIGATION-->\n",
    "Module 2. Python Data | [Simple Types](./01_simple_types.ipynb) | [Data Structures](./02_data_structures.ipynb) | **[Exercises](./03_data_exercises.ipynb)**\n",
    "<br>\n",
    "[Top](#)"
   ]
  },
  {
   "cell_type": "markdown",
   "metadata": {},
   "source": [
    "- - -\n",
    "\n",
    "Copyright © 2020 Qualex Consulting Services Incorporated."
   ]
  },
  {
   "cell_type": "code",
   "execution_count": null,
   "metadata": {},
   "outputs": [],
   "source": []
  }
 ],
 "metadata": {
  "kernelspec": {
   "display_name": "Python 3",
   "language": "python",
   "name": "python3"
  },
  "language_info": {
   "codemirror_mode": {
    "name": "ipython",
    "version": 3
   },
   "file_extension": ".py",
   "mimetype": "text/x-python",
   "name": "python",
   "nbconvert_exporter": "python",
   "pygments_lexer": "ipython3",
   "version": "3.7.7"
  }
 },
 "nbformat": 4,
 "nbformat_minor": 4
}
