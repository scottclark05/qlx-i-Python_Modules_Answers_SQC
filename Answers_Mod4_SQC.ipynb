{
 "cells": [
  {
   "cell_type": "markdown",
   "metadata": {},
   "source": [
    "Data Science Fundamentals: Python |\n",
    "[Table of Contents](../index.ipynb)\n",
    "- - - \n",
    "<!--NAVIGATION-->\n",
    "Module 4. [Defining Functions](./01_mod_defining_functions.ipynb) | [Errors And Exceptions](./02_mod_errors_and_exceptions.ipynb) | **[Exercises](./03_mod_exercises.ipynb)**"
   ]
  },
  {
   "cell_type": "markdown",
   "metadata": {},
   "source": [
    "# Module 4: Practice Exercises"
   ]
  },
  {
   "cell_type": "markdown",
   "metadata": {},
   "source": [
    "## Exercise 1.\n",
    "\n",
    "We add a Leap Day on February 29, almost every four years. The leap day is an extra, or intercalary day and we add it to the shortest month of the year, February.\n",
    "\n",
    "In the Gregorian calendar three criteria must be taken into account to identify leap years:\n",
    "\n",
    "- The year can be evenly divided by 4, is a leap year, unless:\n",
    "- The year can be evenly divided by 100, it is NOT a leap year, unless:\n",
    "- The year is also evenly divisible by 400. Then it is a leap year.\n",
    "\n",
    "This means that in the Gregorian calendar, the years 2000 and 2400 are leap years, while 1800, 1900, 2100, 2200, 2300 and 2500 are NOT leap years.\n",
    "#### Task\n",
    "You are given the year, and you have to write a function to check if the year is leap or not.  Simply answer if TRUE or FALSE. \n",
    "\n",
    "Note that you have to complete the function and remaining code is given as template.\n",
    "\n",
    "**Input Format**\n",
    "\n",
    "Read y, the year that needs to be checked.\n",
    "\n",
    "**Output Format**\n",
    "\n",
    "Output is taken care of by the template. Your function must return a boolean value (True/False)"
   ]
  },
  {
   "cell_type": "code",
   "execution_count": 2,
   "metadata": {},
   "outputs": [
    {
     "name": "stdout",
     "output_type": "stream",
     "text": [
      "Input a four digit calendar year2004\n",
      "Is 2004 a Leap Year? True\n"
     ]
    }
   ],
   "source": [
    "#Answer to exercise 1\n",
    "#You are given the year, and you have to write a function to check if the year is leap or not. Simply answer if TRUE or FALSE.\n",
    "#\n",
    "#Note that you have to complete the function and remaining code is given as template.\n",
    "\n",
    "def leapYearCheck(y):\n",
    "#This checks a calendar year and return true if it is a leap year\n",
    "    if y % 4 != 0:\n",
    "        return False\n",
    "    elif y % 400 == 0:\n",
    "        return True\n",
    "    elif y % 100  == 0:\n",
    "        return False\n",
    "    else :\n",
    "        return True\n",
    " \n",
    "       \n",
    "ly=int(input(\"Input a four digit calendar year\"))        \n",
    "\n",
    "print (\"Is \" + str(ly) + \" a Leap Year? \" + str(leapYearCheck(ly)))\n"
   ]
  },
  {
   "cell_type": "code",
   "execution_count": null,
   "metadata": {},
   "outputs": [],
   "source": []
  },
  {
   "cell_type": "markdown",
   "metadata": {},
   "source": [
    "**[Submit to Hacker Rank](https://www.hackerrank.com/challenges/write-a-function/problem)**.  Take two screenshots of solution and upload those images as your submission."
   ]
  },
  {
   "cell_type": "markdown",
   "metadata": {},
   "source": [
    "## Exercise 2.\n",
    "\n",
    "### Exceptions\n",
    "\n",
    "Errors detected during execution are called exceptions.\n",
    "\n",
    "Examples:\n",
    "\n",
    "**ZeroDivisionError** <br>\n",
    "This error is raised when the second argument of a division or modulo operation is zero."
   ]
  },
  {
   "cell_type": "code",
   "execution_count": 27,
   "metadata": {},
   "outputs": [
    {
     "name": "stdout",
     "output_type": "stream",
     "text": [
      "How many tests do you want to run? 2\n",
      "What are the two integers (separated by a space)?2 3\n",
      "\n",
      "Cool. 2 divided by 3  equals: 0.6666666666666666\n",
      "What are the two integers (separated by a space)?1 0\n",
      "\n",
      "Yikes!!! that didn't work. Error: division by zero\n"
     ]
    }
   ],
   "source": [
    "#Answer to Exercise 2\n",
    "\n",
    "#Define a function to determine if a string is a integer value\n",
    "def is_integer(n):\n",
    "    \"\"\"This function takes a string as a parameter and checks to see if it an integer value. returns a Boolean\"\"\"\n",
    "    try:\n",
    "        float(n)\n",
    "    except ValueError:\n",
    "        return False\n",
    "    else:\n",
    "        return float(n).is_integer()\n",
    "    \n",
    "#Define the Division function to chck for correct input\n",
    "def betterDiv (a, b):\n",
    "    \"\"\"Does a check of the values passed for valid integer division\"\"\"\n",
    "    if b==0 : \n",
    "        raiseException (\"Can not divide by 0\")\n",
    "        return False\n",
    "    elif not(is_integer(a) and is_integer(b)): \n",
    "        raise RuntimeError (\"Must pass two Int parameters\")\n",
    "        return False\n",
    "    else:\n",
    "        return int(a)/int(b)\n",
    "\n",
    "#Input number times to loop    \n",
    "numTests=int(input(\"How many tests do you want to run? \"))\n",
    "\n",
    "for t in range(numTests):\n",
    "    try:\n",
    "        #make sure the user passes two values\n",
    "        dividend,divisor = input(\"What are the two integers (separated by a space)?\").split()\n",
    "    except:\n",
    "        #if not breakout of the loop\n",
    "        print(\"Try Again... TWO integers (separated by a space)\")\n",
    "        continue\n",
    "        \n",
    "    try:\n",
    "        quotient=betterDiv(dividend,divisor);\n",
    "        print(\"\\nCool. {0} divided by {1} equals: {2}\".format(dividend,divisor,quotient))\n",
    "    except Exception as err:\n",
    "        print(\"\\nYikes!!! that didn't work. Error: \"+str(err))\n"
   ]
  },
  {
   "cell_type": "code",
   "execution_count": null,
   "metadata": {},
   "outputs": [],
   "source": []
  },
  {
   "cell_type": "markdown",
   "metadata": {},
   "source": [
    "**[Submit To HackerRank](https://www.hackerrank.com/challenges/exceptions/problem)**.  Take screenshot of completed solution and upload those images as your submission."
   ]
  },
  {
   "cell_type": "markdown",
   "metadata": {},
   "source": [
    "- - -\n",
    "Module 4. [Defining Functions](./01_mod_defining_functions.ipynb) | [Errors And Exceptions](./02_mod_errors_and_exceptions.ipynb) | **[Exercises](./03_mod_exercises.ipynb)**\n",
    "<br>\n",
    "[Top](#)"
   ]
  },
  {
   "cell_type": "markdown",
   "metadata": {},
   "source": [
    "- - -\n",
    "\n",
    "Copyright © 2020 Qualex Consulting Services Incorporated."
   ]
  }
 ],
 "metadata": {
  "kernelspec": {
   "display_name": "Python 3",
   "language": "python",
   "name": "python3"
  },
  "language_info": {
   "codemirror_mode": {
    "name": "ipython",
    "version": 3
   },
   "file_extension": ".py",
   "mimetype": "text/x-python",
   "name": "python",
   "nbconvert_exporter": "python",
   "pygments_lexer": "ipython3",
   "version": "3.7.7"
  }
 },
 "nbformat": 4,
 "nbformat_minor": 4
}
