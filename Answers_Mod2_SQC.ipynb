{
 "cells": [
  {
   "cell_type": "markdown",
   "metadata": {},
   "source": [
    "Data Science Fundamentals: Python |\n",
    "[Table of Contents](../index.ipynb)\n",
    "- - - \n",
    "<!--NAVIGATION-->\n",
    "Module 2. Python Data | [Simple Types](./01_simple_types.ipynb) | [Data Structures](./02_data_structures.ipynb) | **[Exercises](./03_data_exercises.ipynb)**"
   ]
  },
  {
   "cell_type": "markdown",
   "metadata": {},
   "source": [
    "# Module 2: Practice Exercises"
   ]
  },
  {
   "cell_type": "markdown",
   "metadata": {},
   "source": [
    "1. Get a space-separated list of integers from the user, create a tuple of those integers. Then compute and print the result of hash(tuple).  [Hint](https://docs.python.org/3/library/functions.html#hash). **Hash()**"
   ]
  },
  {
   "cell_type": "code",
   "execution_count": 11,
   "metadata": {},
   "outputs": [
    {
     "name": "stdout",
     "output_type": "stream",
     "text": [
      "Input a string of numbers separated by space : 10 20 30\n",
      "-6299925204498084005\n"
     ]
    }
   ],
   "source": [
    "#Answer for Exercise 1\n",
    "\n",
    "#Input list of strings \n",
    "NewInput=list(input('Input a string of numbers separated by space : ').split())\n",
    "\n",
    "#Convert to a tuple\n",
    "NewTuple=tuple([int(i) for i in NewInput])\n",
    "\n",
    "#Print the hash value\n",
    "print(hash(NewTuple))\n",
    "\n",
    "\n",
    "\n"
   ]
  },
  {
   "cell_type": "markdown",
   "metadata": {},
   "source": [
    "A **[hash](https://en.wikipedia.org/wiki/Hash_function)** is an fixed sized integer that identifies a particular value. Each value needs to have its own hash, so for the same value you will get the same hash even if it's not the same object."
   ]
  },
  {
   "cell_type": "raw",
   "metadata": {},
   "source": [
    "hash(\"foo\")\n",
    "1849024199686380661"
   ]
  },
  {
   "cell_type": "code",
   "execution_count": 2,
   "metadata": {},
   "outputs": [
    {
     "name": "stdout",
     "output_type": "stream",
     "text": [
      "Input some space separated integers : \n",
      "10 20 30\n"
     ]
    }
   ],
   "source": [
    "print('Input some space separated integers : ')\n",
    "#int\n",
    "#float\n",
    "numbers = list(map(float, input().split()))\n",
    "# This reads a line, splits it at white spaces, and applies int() to every element of the result."
   ]
  },
  {
   "cell_type": "code",
   "execution_count": 3,
   "metadata": {},
   "outputs": [
    {
     "name": "stdout",
     "output_type": "stream",
     "text": [
      "[10.0, 20.0, 30.0]\n"
     ]
    }
   ],
   "source": [
    "print(numbers)"
   ]
  },
  {
   "cell_type": "code",
   "execution_count": 42,
   "metadata": {},
   "outputs": [
    {
     "name": "stdout",
     "output_type": "stream",
     "text": [
      "New number is: 69.3\n"
     ]
    }
   ],
   "source": [
    "new_number = sum(numbers)\n",
    "print(\"New number is: \" + str(new_number))"
   ]
  },
  {
   "cell_type": "code",
   "execution_count": 43,
   "metadata": {},
   "outputs": [
    {
     "name": "stdout",
     "output_type": "stream",
     "text": [
      "Hash of the number is 69.3\n",
      "691752902764101701\n"
     ]
    }
   ],
   "source": [
    "print(\"Hash of the number is \" + str(new_number))\n",
    "# The hash() method returns the hash value of an object if it has one.\n",
    "hashest = hash(new_number)\n",
    "print(hashest)\n",
    "# Addendum: Lists aren't hashable because they're mutable."
   ]
  },
  {
   "cell_type": "code",
   "execution_count": 34,
   "metadata": {},
   "outputs": [
    {
     "name": "stdout",
     "output_type": "stream",
     "text": [
      "[6, 7, 8, 9]\n",
      "After deleting Numbers : \n"
     ]
    },
    {
     "ename": "NameError",
     "evalue": "name 'numbers' is not defined",
     "output_type": "error",
     "traceback": [
      "\u001b[0;31m---------------------------------------------------------------------------\u001b[0m",
      "\u001b[0;31mNameError\u001b[0m                                 Traceback (most recent call last)",
      "\u001b[0;32m<ipython-input-34-95eedc741f94>\u001b[0m in \u001b[0;36m<module>\u001b[0;34m\u001b[0m\n\u001b[1;32m      2\u001b[0m \u001b[0;32mdel\u001b[0m \u001b[0mnumbers\u001b[0m\u001b[0;34m;\u001b[0m\u001b[0;34m\u001b[0m\u001b[0;34m\u001b[0m\u001b[0m\n\u001b[1;32m      3\u001b[0m \u001b[0mprint\u001b[0m\u001b[0;34m(\u001b[0m\u001b[0;34m\"After deleting Numbers : \"\u001b[0m\u001b[0;34m)\u001b[0m\u001b[0;34m\u001b[0m\u001b[0;34m\u001b[0m\u001b[0m\n\u001b[0;32m----> 4\u001b[0;31m \u001b[0mprint\u001b[0m\u001b[0;34m(\u001b[0m\u001b[0mnumbers\u001b[0m\u001b[0;34m)\u001b[0m\u001b[0;34m;\u001b[0m\u001b[0;34m\u001b[0m\u001b[0;34m\u001b[0m\u001b[0m\n\u001b[0m",
      "\u001b[0;31mNameError\u001b[0m: name 'numbers' is not defined"
     ]
    }
   ],
   "source": [
    "print(numbers);\n",
    "del numbers;\n",
    "print(\"After deleting Numbers : \")\n",
    "print(numbers);"
   ]
  },
  {
   "cell_type": "markdown",
   "metadata": {},
   "source": [
    "2. Take the following two lists. Create a third list by picking a odd-index elements from the first list and even-index elements from the second."
   ]
  },
  {
   "cell_type": "code",
   "execution_count": 13,
   "metadata": {},
   "outputs": [
    {
     "name": "stdout",
     "output_type": "stream",
     "text": [
      "[3, 9, 15, 21, 8, 16, 24]\n"
     ]
    }
   ],
   "source": [
    "#Answer for Exercise 2\n",
    "listOne = [3, 6, 9, 12, 15, 18, 21]\n",
    "listTwo = [4, 8, 12, 16, 20, 24, 28]\n",
    "\n",
    "#concatentate odd-index from listOne and even-index from List2\n",
    "listThree = listOne[::2]+listTwo[1::2]\n",
    "print(listThree)"
   ]
  },
  {
   "cell_type": "raw",
   "metadata": {},
   "source": [
    "listOne = [3, 6, 9, 12, 15, 18, 21]\n",
    "listTwo = [4, 8, 12, 16, 20, 24, 28]"
   ]
  },
  {
   "cell_type": "code",
   "execution_count": 4,
   "metadata": {},
   "outputs": [
    {
     "name": "stdout",
     "output_type": "stream",
     "text": [
      "The original list : [3, 6, 7, 8, 9, 2, 1, 5]\n",
      "Separated odd and even index list: [3, 6, 9, 12, 15, 18, 21, 3, 7, 9, 1, 4, 8, 12, 16, 20, 24, 28, 6, 8, 2, 5]\n"
     ]
    }
   ],
   "source": [
    "# Separating odd and even index elements \n",
    "\n",
    "# initializing list \n",
    "listThree = [3, 6, 7, 8, 9, 2, 1, 5] \n",
    "  \n",
    "# printing original list \n",
    "print(\"The original list : \" + str(listThree))\n",
    "listOne = [3, 6, 9, 12, 15, 18, 21]\n",
    "listTwo = [4, 8, 12, 16, 20, 24, 28]\n",
    "\n",
    "for i in range(0, len(listThree)): \n",
    "    if i % 2: \n",
    "        listTwo.append(listThree[i]) \n",
    "    else : \n",
    "        listOne.append(listThree[i]) \n",
    "  \n",
    "res = listOne + listTwo\n",
    "\n",
    "# print result \n",
    "print(\"Separated odd and even index list: \" + str(res))"
   ]
  },
  {
   "cell_type": "markdown",
   "metadata": {},
   "source": [
    "3. Take the following list. Slice it into three equal chunks and reverse each list."
   ]
  },
  {
   "cell_type": "code",
   "execution_count": 50,
   "metadata": {},
   "outputs": [
    {
     "name": "stdout",
     "output_type": "stream",
     "text": [
      "[[8, 45, 11], [12, 14, 23], [89, 45, 78], [100, 99]]\n"
     ]
    }
   ],
   "source": [
    "#Answers to Exercise 3\n",
    "#Input String and size of blocks to reverse\n",
    "sampleList = [11, 45, 8, 23, 14, 12, 78, 45 ,89 ,99, 100]\n",
    "chunkSize=3\n",
    "\n",
    "#number of whole blocks in input string\n",
    "numChunks=int(len(sampleList)//chunkSize)\n",
    "\n",
    "#have to intialize the list with the first block because the name of the slicing syntax excludes the 0 element \n",
    "#have to use :: as the second parameter to get the first number\n",
    "\n",
    "part=[sampleList[chunkSize*1-1::-1]]\n",
    "for i in range(2,numChunks+1):\n",
    "   part.append(sampleList[chunkSize*i-1:chunkSize*(i-1)-1:-1])\n",
    "\n",
    "#If the string is not an exact multiple of the chunksize  to make sure include the last part reversed \n",
    "part.append(sampleList[len(sampleList):chunkSize*numChunks-1:-1])\n",
    "print (part)"
   ]
  },
  {
   "cell_type": "code",
   "execution_count": 15,
   "metadata": {},
   "outputs": [],
   "source": [
    "sampleList = [11, 45, 8, 23, 14, 12, 78, 45, 89]"
   ]
  },
  {
   "cell_type": "code",
   "execution_count": 6,
   "metadata": {},
   "outputs": [
    {
     "name": "stdout",
     "output_type": "stream",
     "text": [
      "The original list : [11, 45, 8, 23, 14, 12, 78, 45, 89]\n",
      "Separated odd list : [45, 23, 12, 45]\n",
      "Separated even list : [11, 8, 14, 78, 89]\n",
      "Separated odd and even index list : [11, 8, 14, 78, 89, 45, 23, 12, 45]\n"
     ]
    }
   ],
   "source": [
    "# Python3 code to demonstrate \n",
    "# Separating odd and even index elements \n",
    "# Using list slicing \n",
    "  \n",
    "# initializing list \n",
    "sampleList = [11, 45, 8, 23, 14, 12, 78, 45, 89]\n",
    "  \n",
    "# printing original list \n",
    "print(\"The original list : \" + str(sampleList)) \n",
    "  \n",
    "# Using list slicing \n",
    "# Separating odd and even index elements \n",
    "res2 = sampleList[::2] \n",
    "res3 = sampleList[1::2] \n",
    "res = sampleList[::2] + sampleList[1::2] \n",
    "  \n",
    "# print result \n",
    "print(\"Separated odd list : \" + str(res3))\n",
    "print(\"Separated even list : \" + str(res2))\n",
    "print(\"Separated odd and even index list : \" + str(res)) "
   ]
  },
  {
   "cell_type": "markdown",
   "metadata": {},
   "source": [
    "4. Iterate through a given list and check if a given element already exists in a dictionary as a key’s value. If not, delete it from the list."
   ]
  },
  {
   "cell_type": "code",
   "execution_count": 3,
   "metadata": {},
   "outputs": [],
   "source": [
    "rollNumber = [47, 64, 69, 37, 76, 83, 95, 97]\n",
    "sampleDict ={'Zach':47, 'Emma':69, 'Kelly':76, 'Jason':97}"
   ]
  },
  {
   "cell_type": "code",
   "execution_count": 14,
   "metadata": {},
   "outputs": [
    {
     "name": "stdout",
     "output_type": "stream",
     "text": [
      "47\n",
      "Not present\n",
      "64\n",
      "Not present\n",
      "69\n",
      "Not present\n",
      "37\n",
      "Not present\n",
      "76\n",
      "Not present\n",
      "83\n",
      "Not present\n",
      "95\n",
      "Not present\n",
      "97\n",
      "Not present\n"
     ]
    }
   ],
   "source": [
    "# Python3 Program to check whether a  \n",
    "# given key already exists in a dictionary. \n",
    "  \n",
    "# Function to print sum \n",
    "def checkKey(dict, key): \n",
    "      \n",
    "    if key in dict: \n",
    "        print(\"Present, \", end =\" \") \n",
    "        print(\"value =\", dict[key]) \n",
    "    else: \n",
    "        print(\"Not present\") \n",
    "  \n",
    "# Driver Code \n",
    "# dict = {'a': 100, 'b':200, 'c':300} \n",
    "# Sample Dictionary\n",
    "\n",
    "sampleDict ={'Zach':47, 'Emma':69, 'Kelly':76, 'Jason':97}\n",
    "\n",
    "# Python3 code to iterate over a list \n",
    "rollNumber = [47, 64, 69, 37, 76, 83, 95, 97]\n",
    "   \n",
    "# Using for loop \n",
    "for i in rollNumber: \n",
    "    key = i\n",
    "    print(i)\n",
    "    checkKey(sampleDict, key)"
   ]
  },
  {
   "cell_type": "markdown",
   "metadata": {},
   "source": [
    "- - - \n",
    "<!--NAVIGATION-->\n",
    "Module 2. Python Data | [Simple Types](./01_simple_types.ipynb) | [Data Structures](./02_data_structures.ipynb) | **[Exercises](./03_data_exercises.ipynb)**\n",
    "<br>\n",
    "[Top](#)"
   ]
  },
  {
   "cell_type": "markdown",
   "metadata": {},
   "source": [
    "- - -\n",
    "\n",
    "Copyright © 2020 Qualex Consulting Services Incorporated."
   ]
  },
  {
   "cell_type": "code",
   "execution_count": null,
   "metadata": {},
   "outputs": [],
   "source": []
  }
 ],
 "metadata": {
  "kernelspec": {
   "display_name": "Python 3",
   "language": "python",
   "name": "python3"
  },
  "language_info": {
   "codemirror_mode": {
    "name": "ipython",
    "version": 3
   },
   "file_extension": ".py",
   "mimetype": "text/x-python",
   "name": "python",
   "nbconvert_exporter": "python",
   "pygments_lexer": "ipython3",
   "version": "3.7.7"
  }
 },
 "nbformat": 4,
 "nbformat_minor": 4
}
