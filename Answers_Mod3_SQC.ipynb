{
 "cells": [
  {
   "cell_type": "markdown",
   "metadata": {},
   "source": [
    "Data Science Fundamentals: Python |\n",
    "[Table of Contents](../index.ipynb)\n",
    "- - - \n",
    "<!--NAVIGATION-->\n",
    "Module 3. [Control Flow](./01_mod_control_flow.ipynb) | [Statements](./02_python_statements.ipynb) | [Functions](./03_python_functions.ipynb) | **[Exercises](./04_mod_exercises.ipynb)**"
   ]
  },
  {
   "cell_type": "markdown",
   "metadata": {},
   "source": [
    "# Module 3: Practice Exercises"
   ]
  },
  {
   "cell_type": "markdown",
   "metadata": {},
   "source": [
    "1. Guess a number between 1 to 9 given by the user. Hint. [Random](https://docs.python.org/3/library/random.html)"
   ]
  },
  {
   "cell_type": "code",
   "execution_count": 2,
   "metadata": {},
   "outputs": [
    {
     "name": "stdout",
     "output_type": "stream",
     "text": [
      "Guess a number between 1 and 10 \t5\n",
      "So Close!!! Try again\n",
      "Guess a number between 1 and 10 \t4\n",
      "So Close!!! Try again\n",
      "Guess a number between 1 and 10 \t3\n",
      "So Close!!! Try again\n",
      "Guess a number between 1 and 10 \t2\n",
      "So Close!!! Try again\n",
      "Guess a number between 1 and 10 \t1\n",
      "So Close!!! Try again\n",
      "Guess a number between 1 and 10 \t6\n",
      "So Close!!! Try again\n",
      "Guess a number between 1 and 10 \t7\n",
      "So Close!!! Try again\n",
      "Guess a number between 1 and 10 \t8\n",
      "So Close!!! Try again\n",
      "Guess a number between 1 and 10 \t9\n",
      "So Close!!! Try again\n",
      "Guess a number between 1 and 10 \t10\n",
      "Good Job!! the number I was thinking about was : 10\n",
      "It took 10 guesses. If you were lucky it would be less than 5\n"
     ]
    }
   ],
   "source": [
    "#Answers for Exercise 1\n",
    "import random\n",
    "\n",
    "#get target value between 1 and 9\n",
    "random.seed()\n",
    "targ=random.randint(1,10)\n",
    "\n",
    "#Loop to prompt for user guess. Put in a for loop with finite number so won't guess forever\n",
    "for i in range(100):\n",
    "    guess=int(input('Guess a number between 1 and 10 \\t'))\n",
    "    if guess == targ :\n",
    "        #correct response let them know and terminate the loop\n",
    "        print (\"Good Job!! the number I was thinking about was : \"+str(targ))\n",
    "        break\n",
    "    else :\n",
    "        #retry\n",
    "        print (\"So Close!!! Try again\")\n",
    "#Finish\n",
    "print ('It took '+str(i+1)+' guesses. If you were lucky it would be less than 5')\n",
    "\n",
    "\n"
   ]
  },
  {
   "cell_type": "markdown",
   "metadata": {},
   "source": [
    "2. Check the validity of password input by the user. Hint. [Re](https://docs.python.org/3/library/re.html) which does matching operations much like Perl.\n",
    "\n",
    "Validation:\n",
    "\n",
    "- At least 1 letter between [a-z] and 1 letter between [A-Z].\n",
    "- At least 1 number between [0-9].\n",
    "- At least 1 character from [$#@].\n",
    "- Minimum length 6 characters.\n",
    "- Maximum length 16 characters."
   ]
  },
  {
   "cell_type": "code",
   "execution_count": 1,
   "metadata": {},
   "outputs": [
    {
     "name": "stdout",
     "output_type": "stream",
     "text": [
      "Enter your super secret passwordpassword\n",
      "Must have at least 1 Upper case letter [A-Z]\n"
     ]
    }
   ],
   "source": [
    "#Answers to Question 2\n",
    "import re\n",
    "\n",
    "pw=str(input('Enter your super secret password'))\n",
    "\n",
    "if not re.search('[a-z]',pw) :\n",
    " \tprint ('Must have at least 1 lower case letter [a-z]')\n",
    "elif not re.search('[A-Z]',pw) :\n",
    "\tprint ('Must have at least 1 Upper case letter [A-Z]')\n",
    "elif not re.search('[0-9]',pw) :\n",
    " \tprint ('Must have at least 1 numeric [0-9]')\n",
    "elif not re.search('*#@'):\n",
    "\tprint ('Must have at least 1 special character *#@')\n",
    "elif not (len(pw)>= 6 and len(pw)<=16):\n",
    "\tprint('Password must have between 6 and 16 characters')\n",
    "else:\n",
    " \tprint ('Damn good password')\n",
    "    \n",
    "    \n",
    "\n"
   ]
  },
  {
   "cell_type": "markdown",
   "metadata": {},
   "source": []
  },
  {
   "cell_type": "markdown",
   "metadata": {},
   "source": [
    "3. Get input of the age of 3 people by user and determine oldest and youngest among them"
   ]
  },
  {
   "cell_type": "code",
   "execution_count": 7,
   "metadata": {},
   "outputs": [
    {
     "name": "stdout",
     "output_type": "stream",
     "text": [
      "Was is person 0's age?10\n",
      "Was is person 1's age?20\n",
      "Was is person 2's age?30\n",
      "The youngest person is : 10\n",
      "The oldest person is : 30\n"
     ]
    }
   ],
   "source": [
    "#3. Get input of the age of 3 people by user and determine oldest and youngest among them\n",
    "\n",
    "#Initital list of ages\n",
    "ageList=[]\n",
    "#Loop for 3 times and add ages to list\n",
    "for i in range (3):\n",
    "    age=input(\"What is person \"+str(i+1)+\"'s age? \")\n",
    "    ageList.append(int(age))\n",
    "#Sort the list\n",
    "ageList.sort()\n",
    "#get the ends of the list\n",
    "print(\"The youngest person is :\",str(ageList[0]))\n",
    "print(\"The oldest person is :\",str(ageList[-1]))\n",
    "\n"
   ]
  },
  {
   "cell_type": "markdown",
   "metadata": {},
   "source": [
    "4. A student will not be allowed to sit in exam if his/her attendance is less than 75%.\n",
    "\n",
    "Take following input from user\n",
    "\n",
    "- Number of classes held\n",
    "- Number of classes attended.\n",
    "- And print percentage of class attended\n",
    "- Is student is allowed to sit in exam or not?"
   ]
  },
  {
   "cell_type": "code",
   "execution_count": 1,
   "metadata": {},
   "outputs": [
    {
     "name": "stdout",
     "output_type": "stream",
     "text": [
      "What is the # of classes Held?10\n",
      "What is the # of classes Attended?8\n",
      "He or she has attended 80% classes.  Let em stand for the test\n"
     ]
    }
   ],
   "source": [
    "\n",
    "#Answer to Exercise #4\n",
    "#4.A student will not be allowed to sit in exam if his/her attendance is less than 75%.\n",
    "#Take following input from user\n",
    "\n",
    "#Number of classes held\n",
    "#Number of classes attended.\n",
    "#And print percentage of class attended\n",
    "#Is student is allowed to sit in exam or not?\n",
    "\n",
    "#Input \n",
    "classesHeld=int(input(\"What is the # of classes Held?\"))\n",
    "classesAttended=int(input(\"What is the # of classes Attended?\"))\n",
    "\n",
    "#Check for a divide by 0 \n",
    "if classesHeld != 0 :\n",
    "        percentage=float(classesAttended/classesHeld)\n",
    "else:\n",
    "     percentage=None\n",
    "\n",
    "#Final output\n",
    "if percentage == None :\n",
    "    print (\"You have taught 0 classes and then ask if he/she attended enough classes? Think....\")\n",
    "elif percentage > 1.0:\n",
    "    print (\"Really? The student was at more classes than you taught. I think they can take the test.\")\n",
    "elif percentage >=0.75:\n",
    "    print (\"He or she has attended \"+\"{:.0%}\".format(percentage)+\" classes.  Let em stand for the test.\")\n",
    "elif percentage <0.75:\n",
    "    print (\"He or she has attended \"+\"{:.0%}\".format(percentage)+\" classes.  No chance they are ready for one of your tests.\")\n",
    "else:\n",
    "    print (\"What else is there?\")  "
   ]
  },
  {
   "cell_type": "markdown",
   "metadata": {},
   "source": [
    "5. Get an integer N from the user and perform the following actions:\n",
    "\n",
    "Find out - \n",
    "- if N is odd, print \"weird\"\n",
    "- if N is even and in the inclusive range of 2 to 5, print \"Not Weird\"\n",
    "- if N is even and in the inclusive range of 6 to 20, print \"Weird\"\n",
    "- if N is even and greater than 20, print \"Not Weird\""
   ]
  },
  {
   "cell_type": "code",
   "execution_count": 3,
   "metadata": {},
   "outputs": [
    {
     "name": "stdout",
     "output_type": "stream",
     "text": [
      "Give me a number: 22\n",
      "22 Not Weird\n"
     ]
    }
   ],
   "source": [
    "# Given an integer, n, perform the following conditional actions:\n",
    "# If n is odd, print Weird\n",
    "# If n is even and in the inclusive range of 2 to 5, print Not Weird\n",
    "# If n is even and in the inclusive range of 6 to 20, print Weird\n",
    "#5 Get an integer N from the user and perform the following actions:\n",
    "#Find out -\n",
    "\n",
    "UserInput=int(input(\"Give me a number: \"))\n",
    "\n",
    "if UserInput%2 !=0:\n",
    "    print (str(UserInput)+\" Weird\")\n",
    "elif UserInput in range(2,6):\n",
    "    print (str(UserInput)+\" Not Weird\")\n",
    "elif UserInput in range(6,21):\n",
    "    print (str(UserInput)+\" Weird\")\n",
    "elif UserInput > 20:\n",
    "    print (str(UserInput)+\" Not Weird\")\n",
    "else:\n",
    "    print(\"What is left \"+UserInput)  "
   ]
  },
  {
   "cell_type": "markdown",
   "metadata": {},
   "source": [
    "\n",
    "## Extra Points\n",
    "- - -"
   ]
  },
  {
   "cell_type": "markdown",
   "metadata": {},
   "source": [
    "1. Optional Exercise (Extra Points). Write a Python program to reverse a string."
   ]
  },
  {
   "cell_type": "raw",
   "metadata": {},
   "source": [
    "Sample String : \"1234abcd\"\n",
    "Expected Output : \"dcba4321\""
   ]
  },
  {
   "cell_type": "code",
   "execution_count": 6,
   "metadata": {},
   "outputs": [
    {
     "name": "stdout",
     "output_type": "stream",
     "text": [
      "Enter a string:\n",
      "1234abcd\n",
      "Your string backwards is: dcba4321\n"
     ]
    }
   ],
   "source": [
    "# Answer for 1.Optional Exercise (Extra Points). Write a Python program to reverse a string.\n",
    "\n",
    "listInput=list(input('Enter a string:\\n'))\n",
    "\n",
    "output=\"\".join(listInput[::-1])\n",
    "print(\"Your string backwards is: \"+output)\n",
    "\n"
   ]
  },
  {
   "cell_type": "markdown",
   "metadata": {},
   "source": [
    "2. Optional Exercise (Extra Points). Write a Python function to multiply all the numbers in a list. "
   ]
  },
  {
   "cell_type": "raw",
   "metadata": {},
   "source": [
    "Sample List : (8, 2, 3, -1, 7)\n",
    "Expected Output : -336"
   ]
  },
  {
   "cell_type": "code",
   "execution_count": null,
   "metadata": {},
   "outputs": [],
   "source": [
    "#2 Answer Optional Exercise (Extra Points). Write a Python function to multiply all the numbers in a list.\n",
    "\n",
    "def multThemAll (a) :\n",
    "    \"This multiples all the numbers in a list and returns a float\"\n",
    "\n",
    "    res=1.0\n",
    "    for x in a :\n",
    "            res *= x\n",
    "    return res\n",
    "\n",
    "aList=(1,2,3,4,5.6)\n",
    "print(\"The sum of your string of numbers is: \"+ str(multThemAll(aList)))\n",
    "\n"
   ]
  },
  {
   "cell_type": "markdown",
   "metadata": {},
   "source": [
    "3. Optional Exercise (Extra Points). Write a Python function that accepts a string and calculate the number of upper case letters and lower case letters."
   ]
  },
  {
   "cell_type": "raw",
   "metadata": {},
   "source": [
    "Sample String : 'The quick Brow Fox'\n",
    "Expected Output :\n",
    "No. of Upper case characters : 3\n",
    "No. of Lower case Characters : 12"
   ]
  },
  {
   "cell_type": "code",
   "execution_count": 8,
   "metadata": {},
   "outputs": [
    {
     "name": "stdout",
     "output_type": "stream",
     "text": [
      "What is your input string \n",
      "Scott C. Clark\n",
      "Your input: 'Scott C. Clark' has 8 lower case letters and 3 uppercase letters\n"
     ]
    }
   ],
   "source": [
    "import re\n",
    "\n",
    "inputString =str(input('What is your input string \\n'))\n",
    "\n",
    "\n",
    "lc=len(re.findall(r'[a-z]',inputString))\n",
    "uc=len(re.findall(r'[A-Z]',inputString))\n",
    "    \n",
    "print(\"Your input: '\"+inputString+ \"' has \"+str(lc)+\" lower case letters and \"+str(uc)+\" uppercase letters\")"
   ]
  },
  {
   "cell_type": "markdown",
   "metadata": {},
   "source": [
    "- - -\n",
    "\n",
    "Copyright © 2020 Qualex Consulting Services Incorporated."
   ]
  }
 ],
 "metadata": {
  "kernelspec": {
   "display_name": "Python 3",
   "language": "python",
   "name": "python3"
  },
  "language_info": {
   "codemirror_mode": {
    "name": "ipython",
    "version": 3
   },
   "file_extension": ".py",
   "mimetype": "text/x-python",
   "name": "python",
   "nbconvert_exporter": "python",
   "pygments_lexer": "ipython3",
   "version": "3.7.7"
  }
 },
 "nbformat": 4,
 "nbformat_minor": 4
}
